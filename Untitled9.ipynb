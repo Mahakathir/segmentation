{
 "cells": [
  {
   "cell_type": "code",
   "execution_count": 1,
   "id": "2d73c9bd",
   "metadata": {},
   "outputs": [],
   "source": [
    "import cv2 as a \n",
    "import numpy as n"
   ]
  },
  {
   "cell_type": "code",
   "execution_count": 2,
   "id": "0bb8db5a",
   "metadata": {},
   "outputs": [],
   "source": [
    "img=a.imread(\"cow.jpeg\",0)"
   ]
  },
  {
   "cell_type": "markdown",
   "id": "7f9347c0",
   "metadata": {},
   "source": [
    "# kernel"
   ]
  },
  {
   "cell_type": "code",
   "execution_count": 3,
   "id": "3342e813",
   "metadata": {},
   "outputs": [],
   "source": [
    "kernel=n.ones((3,3),n.uint8)"
   ]
  },
  {
   "cell_type": "markdown",
   "id": "db01e599",
   "metadata": {},
   "source": [
    "# erosion"
   ]
  },
  {
   "cell_type": "code",
   "execution_count": 4,
   "id": "688351d9",
   "metadata": {},
   "outputs": [],
   "source": [
    "er=a.erode(img,kernel,iterations=7)"
   ]
  },
  {
   "cell_type": "code",
   "execution_count": 5,
   "id": "2f1a8ddb",
   "metadata": {},
   "outputs": [],
   "source": [
    "a.imshow(\"grey_img\",img)\n",
    "a.imshow(\"erosion\",er)\n",
    "a.waitKey(0)\n",
    "a.destroyAllWindows()"
   ]
  },
  {
   "cell_type": "code",
   "execution_count": 6,
   "id": "25c8f5df",
   "metadata": {},
   "outputs": [
    {
     "data": {
      "text/plain": [
       "True"
      ]
     },
     "execution_count": 6,
     "metadata": {},
     "output_type": "execute_result"
    }
   ],
   "source": [
    "a.imwrite(\"erosion_img.jpg\",er)"
   ]
  },
  {
   "cell_type": "markdown",
   "id": "7f9cb511",
   "metadata": {},
   "source": [
    "# dilation"
   ]
  },
  {
   "cell_type": "code",
   "execution_count": 7,
   "id": "fa354bb7",
   "metadata": {},
   "outputs": [],
   "source": [
    "di=a.dilate(img,kernel,iterations=3)"
   ]
  },
  {
   "cell_type": "code",
   "execution_count": 8,
   "id": "c1705fcc",
   "metadata": {},
   "outputs": [],
   "source": [
    "a.imshow(\"grey_img\",img)\n",
    "a.imshow(\"dilation_img\",di)\n",
    "a.waitKey(0)\n",
    "a.destroyAllWindows()"
   ]
  },
  {
   "cell_type": "code",
   "execution_count": 9,
   "id": "8fdf77df",
   "metadata": {},
   "outputs": [
    {
     "data": {
      "text/plain": [
       "True"
      ]
     },
     "execution_count": 9,
     "metadata": {},
     "output_type": "execute_result"
    }
   ],
   "source": [
    "a.imwrite(\"dilition_img.jpg\",di)"
   ]
  },
  {
   "cell_type": "markdown",
   "id": "d065161c",
   "metadata": {},
   "source": [
    "# morphological-opening_errosion followed by deletion"
   ]
  },
  {
   "cell_type": "code",
   "execution_count": 10,
   "id": "2d95f61c",
   "metadata": {},
   "outputs": [],
   "source": [
    "open=a.morphologyEx(img,a.MORPH_OPEN,kernel)"
   ]
  },
  {
   "cell_type": "code",
   "execution_count": 11,
   "id": "f804d313",
   "metadata": {},
   "outputs": [],
   "source": [
    "a.imshow(\"grey_img\",img)\n",
    "a.imshow(\"morph-open_img\",open)\n",
    "a.waitKey(0)\n",
    "a.destroyAllWindows()"
   ]
  },
  {
   "cell_type": "markdown",
   "id": "c5b57a38",
   "metadata": {},
   "source": [
    "# morpholgical-close_delition followed by errosion"
   ]
  },
  {
   "cell_type": "code",
   "execution_count": 12,
   "id": "9d86cb0a",
   "metadata": {},
   "outputs": [],
   "source": [
    "close=a.morphologyEx(img,a.MORPH_CLOSE,kernel)"
   ]
  },
  {
   "cell_type": "code",
   "execution_count": 13,
   "id": "b182ea49",
   "metadata": {},
   "outputs": [],
   "source": [
    "a.imshow(\"grey_img\",img)\n",
    "a.imshow(\"morph-close_img\",close)\n",
    "a.waitKey(0)\n",
    "a.destroyAllWindows()"
   ]
  },
  {
   "cell_type": "markdown",
   "id": "f618921a",
   "metadata": {},
   "source": [
    "# Gradient"
   ]
  },
  {
   "cell_type": "code",
   "execution_count": 14,
   "id": "267e93c4",
   "metadata": {},
   "outputs": [],
   "source": [
    "gradient=a.morphologyEx(img,a.MORPH_GRADIENT,kernel)"
   ]
  },
  {
   "cell_type": "code",
   "execution_count": 15,
   "id": "e0353dee",
   "metadata": {},
   "outputs": [],
   "source": [
    "a.imshow(\"grey_img\",img)\n",
    "a.imshow(\"gradient_img\",gradient)\n",
    "a.waitKey(0)\n",
    "a.destroyAllWindows()"
   ]
  },
  {
   "cell_type": "markdown",
   "id": "c5ee2b5a",
   "metadata": {},
   "source": [
    "# top-hat opening and diff.of original and opening"
   ]
  },
  {
   "cell_type": "code",
   "execution_count": 16,
   "id": "57087a57",
   "metadata": {},
   "outputs": [],
   "source": [
    "tophat=a.morphologyEx(img,a.MORPH_TOPHAT,kernel)"
   ]
  },
  {
   "cell_type": "code",
   "execution_count": 17,
   "id": "da5ab490",
   "metadata": {},
   "outputs": [],
   "source": [
    "a.imshow(\"grey_img\",img)\n",
    "a.imshow(\"tophat_img\",tophat)\n",
    "a.waitKey(0)\n",
    "a.destroyAllWindows()"
   ]
  },
  {
   "cell_type": "markdown",
   "id": "4355476b",
   "metadata": {},
   "source": [
    "# blackhat"
   ]
  },
  {
   "cell_type": "code",
   "execution_count": 18,
   "id": "aa56551d",
   "metadata": {},
   "outputs": [],
   "source": [
    "blackhat=a.morphologyEx(img,a.MORPH_BLACKHAT,kernel)"
   ]
  },
  {
   "cell_type": "code",
   "execution_count": 19,
   "id": "436dd2f5",
   "metadata": {},
   "outputs": [],
   "source": [
    "a.imshow(\"grey_img\",img)\n",
    "a.imshow(\"blackhat_img\",blackhat)\n",
    "a.waitKey(0)\n",
    "a.destroyAllWindows()"
   ]
  },
  {
   "cell_type": "markdown",
   "id": "e5503dd4",
   "metadata": {},
   "source": [
    "# IMAGE-SEGMENTATION"
   ]
  },
  {
   "cell_type": "code",
   "execution_count": 20,
   "id": "ef906aba",
   "metadata": {},
   "outputs": [],
   "source": [
    "img=a.imread(\"comp.jpg\")"
   ]
  },
  {
   "cell_type": "code",
   "execution_count": 21,
   "id": "3999e50d",
   "metadata": {},
   "outputs": [],
   "source": [
    "a.imshow(\"img\",img)\n",
    "a.waitKey(0)\n",
    "a.destroyAllWindows()"
   ]
  },
  {
   "cell_type": "code",
   "execution_count": 22,
   "id": "631aaeb0",
   "metadata": {},
   "outputs": [],
   "source": [
    "res=a.resize(img,None,fx=0.5,fy=0.5,interpolation=a.INTER_LINEAR)"
   ]
  },
  {
   "cell_type": "code",
   "execution_count": 23,
   "id": "2839d1b7",
   "metadata": {},
   "outputs": [],
   "source": [
    "a.imshow(\"res\",res)\n",
    "a.waitKey(0)\n",
    "a.destroyAllWindows()"
   ]
  },
  {
   "cell_type": "markdown",
   "id": "704101d8",
   "metadata": {},
   "source": [
    "# RGB CONVERSION"
   ]
  },
  {
   "cell_type": "code",
   "execution_count": 24,
   "id": "048f5117",
   "metadata": {},
   "outputs": [],
   "source": [
    "rgb=a.cvtColor(res,a.COLOR_BGR2RGB)"
   ]
  },
  {
   "cell_type": "markdown",
   "id": "f46aafd3",
   "metadata": {},
   "source": [
    "# FLOAT CONVERSION"
   ]
  },
  {
   "cell_type": "code",
   "execution_count": 25,
   "id": "7fddf601",
   "metadata": {},
   "outputs": [],
   "source": [
    "vec=n.float32(rgb)"
   ]
  },
  {
   "cell_type": "markdown",
   "id": "21c1eed1",
   "metadata": {},
   "source": [
    "# iteration termination criteria"
   ]
  },
  {
   "cell_type": "code",
   "execution_count": 26,
   "id": "4b181372",
   "metadata": {},
   "outputs": [],
   "source": [
    "cri=(a.TERM_CRITERIA_EPS+a.TERM_CRITERIA_MAX_ITER,100,1)"
   ]
  },
  {
   "cell_type": "markdown",
   "id": "60020130",
   "metadata": {},
   "source": [
    "# cluster condition"
   ]
  },
  {
   "cell_type": "code",
   "execution_count": 27,
   "id": "257e0728",
   "metadata": {},
   "outputs": [],
   "source": [
    "k=4\n",
    "attempt=50"
   ]
  },
  {
   "cell_type": "markdown",
   "id": "4aa662f6",
   "metadata": {},
   "source": [
    "# k means clustering"
   ]
  },
  {
   "cell_type": "code",
   "execution_count": 28,
   "id": "80f5d2c3",
   "metadata": {},
   "outputs": [],
   "source": [
    "ret,label,center=a.kmeans(vec,k,None,cri,attempt,a.KMEANS_PP_CENTERS)"
   ]
  },
  {
   "cell_type": "markdown",
   "id": "a678cedd",
   "metadata": {},
   "source": [
    "# unit conversion"
   ]
  },
  {
   "cell_type": "code",
   "execution_count": 29,
   "id": "dfd88907",
   "metadata": {},
   "outputs": [],
   "source": [
    "center=n.uint8(center)"
   ]
  },
  {
   "cell_type": "markdown",
   "id": "9f66aec8",
   "metadata": {},
   "source": [
    "# flattering and reshape"
   ]
  },
  {
   "cell_type": "code",
   "execution_count": 30,
   "id": "26cfbb5f",
   "metadata": {},
   "outputs": [],
   "source": [
    "res_i=center[label.flatten()]\n",
    "resing=res_i.reshape((rgb.shape))"
   ]
  },
  {
   "cell_type": "code",
   "execution_count": 32,
   "id": "a684f3cc",
   "metadata": {},
   "outputs": [],
   "source": [
    "a.imshow(\"original\",img)\n",
    "a.imshow(\"segmented\",resing)\n",
    "if a.waitKey(0)&0xff==27:\n",
    "    a.destroyAllWindows()"
   ]
  },
  {
   "cell_type": "code",
   "execution_count": null,
   "id": "142a296f",
   "metadata": {},
   "outputs": [],
   "source": []
  }
 ],
 "metadata": {
  "kernelspec": {
   "display_name": "Python 3 (ipykernel)",
   "language": "python",
   "name": "python3"
  },
  "language_info": {
   "codemirror_mode": {
    "name": "ipython",
    "version": 3
   },
   "file_extension": ".py",
   "mimetype": "text/x-python",
   "name": "python",
   "nbconvert_exporter": "python",
   "pygments_lexer": "ipython3",
   "version": "3.9.15"
  }
 },
 "nbformat": 4,
 "nbformat_minor": 5
}
